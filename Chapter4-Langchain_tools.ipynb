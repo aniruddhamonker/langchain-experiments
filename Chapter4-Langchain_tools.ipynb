{
 "cells": [
  {
   "attachments": {},
   "cell_type": "markdown",
   "metadata": {},
   "source": [
    "# Introduction to Langchain Tools\n",
    "\n",
    "In this notebook , we are going to look at what Tools are in Langchain and how to use a model to call tools.\n",
    "\n",
    "A tool in Langchain is a construct , that allows a LLM or a chain to interact with something external. In simple terms , a tool is a function that has a purpose and performs some kind of an action or a task.\n",
    "For example, the tool can search the internet for information or it can do some math or even it can be a function that acts as a retriever.\n",
    "\n",
    "In a very basic form, a tool should have the following components:\n",
    "\n",
    "* The name of the tool\n",
    "* A description of what the tool does\n",
    "* JSON formatted schema of what the inputs to the tools are\n",
    "* A function to call when the tool is invoked\n",
    "\n",
    "Once a tool is defined, we can use the power of LLM to call the tool with appropriate inputs. The name, description and JSON schema are provided as context to the LLM, allowing the LLM to determine how to use the tool appropriately.\n",
    "\n",
    "Lets look at an example of defining a simple tool\n",
    "\n",
    "### Defining a  basic Tool"
   ]
  },
  {
   "cell_type": "code",
   "execution_count": 2,
   "metadata": {},
   "outputs": [],
   "source": [
    "from langchain_core.tools import tool\n",
    "\n",
    "@tool\n",
    "def upper_case(string: str) -> str:\n",
    "    \"\"\" convert lower case string of characters to upper case\"\"\"\n",
    "    return string.upper()\n",
    "\n",
    "@tool\n",
    "def int_to_hex(integer: int) -> str:\n",
    "    \"\"\"A function that converts a given integer to hexa decimal\"\"\"\n",
    "    return hex(integer)\n",
    "\n",
    "#Another way of defining tool by simply defining the function\n",
    "def join_elements(a: str, b:str) -> str:\n",
    "    \"\"\"A function that joins two strings\"\"\"\n",
    "    return ''.join(a, b)\n",
    "\n",
    "tools = [upper_case, int_to_hex, join_elements]"
   ]
  },
  {
   "attachments": {},
   "cell_type": "markdown",
   "metadata": {},
   "source": [
    "### Defining tool using Pydantic(optional)"
   ]
  },
  {
   "cell_type": "code",
   "execution_count": 4,
   "metadata": {},
   "outputs": [],
   "source": [
    "#from langchain_core.pydantic_v1 import BaseModel, Field\n",
    "from pydantic import BaseModel, Field\n",
    "\n",
    "class UpperCase(BaseModel):\n",
    "   \"\"\" convert lower case string of characters to upper case\"\"\"\n",
    "\n",
    "   lcase_string: str = Field(..., description=\"lower case string that needs to be converted\")\n",
    "\n",
    "class IntToHex(BaseModel):\n",
    "    \"\"\"converts an integer to its corresponding hexa decimal value\"\"\"\n",
    "\n",
    "    int_to_hex: str = Field(..., description=\"integer value that needs to be converted to hex\")\n",
    "\n",
    "#tools = [UpperCase, IntToHex]\n"
   ]
  },
  {
   "attachments": {},
   "cell_type": "markdown",
   "metadata": {},
   "source": [
    "Note that the docstrings here are crucial, as they will be passed as context to the model along with the class name.\n",
    "\n",
    "Once tools are defined , we can now provide the list of available tools to the LLM along with a prompt. Based on the user prompt, a LLM model will then invoke one or more of the available tools with appropriate inputs.\n",
    "\n",
    "we use \"bind_tools()\" method to pass available tools to the model. Under the hood , \"bind_tools()\" is an interface that can be used with LLMs supporting tool calling feature from different vendors such as openai, anthropic, google , azure and more. For our demo , we are going to use openai llm model.\n",
    "\n",
    "Before using a LLM for calling tools , following things are important to consider:\n",
    "* Chat models that have been fine-tuned for tool calling will be better at tool calling than non-fine-tuned models.\n",
    "* Models will perform better if the tools have well-chosen names, descriptions, and JSON schemas.\n",
    "* The purpose of tool calling is simply to request LLM (based on the user query or prompt) on selecting the best tools to use from the list of available tools. It is not intended to making the function call with the arguments and returning the output from function call."
   ]
  },
  {
   "cell_type": "code",
   "execution_count": 5,
   "metadata": {},
   "outputs": [
    {
     "data": {
      "text/plain": [
       "AIMessage(content='', additional_kwargs={'tool_calls': [{'id': 'call_94qtXe8hoYMutWK5YWpyseg5', 'function': {'arguments': '{\"integer\":10}', 'name': 'int_to_hex'}, 'type': 'function'}], 'refusal': None}, response_metadata={'token_usage': {'completion_tokens': 15, 'prompt_tokens': 105, 'total_tokens': 120, 'completion_tokens_details': {'accepted_prediction_tokens': 0, 'audio_tokens': 0, 'reasoning_tokens': 0, 'rejected_prediction_tokens': 0}, 'prompt_tokens_details': {'audio_tokens': 0, 'cached_tokens': 0}}, 'model_name': 'gpt-4o-2024-08-06', 'system_fingerprint': 'fp_45cf54deae', 'finish_reason': 'tool_calls', 'logprobs': None}, id='run-17e1ccad-7e4f-426d-9a77-5651e625c5e5-0', tool_calls=[{'name': 'int_to_hex', 'args': {'integer': 10}, 'id': 'call_94qtXe8hoYMutWK5YWpyseg5', 'type': 'tool_call'}], usage_metadata={'input_tokens': 105, 'output_tokens': 15, 'total_tokens': 120, 'input_token_details': {'audio': 0, 'cache_read': 0}, 'output_token_details': {'audio': 0, 'reasoning': 0}})"
      ]
     },
     "execution_count": 5,
     "metadata": {},
     "output_type": "execute_result"
    }
   ],
   "source": [
    "import os, getpass\n",
    "from langchain_openai import ChatOpenAI\n",
    "\n",
    "os.environ['OPENAI_API_KEY'] = getpass.getpass()\n",
    "\n",
    "llm = ChatOpenAI(model=\"gpt-4o\")\n",
    "llm_with_tools = llm.bind_tools(tools)\n",
    "\n",
    "llm_with_tools.invoke(\"convert integer 10 to hex\")\n",
    "#llm_with_tools.invoke(\"join the strings Apple and Banana\")\n"
   ]
  },
  {
   "attachments": {},
   "cell_type": "markdown",
   "metadata": {},
   "source": [
    "As we can see in the cell output above, the AI response doesnt give us the answer to user question. Instead it shows which tool it will use based on the user query along with properly formatted arguments to the selected tool\n",
    "\n",
    "if the output has attribute \"tool_calls\" , we can print it to see which tool AI is selecting along with the arguments based on the user query"
   ]
  },
  {
   "cell_type": "code",
   "execution_count": 6,
   "metadata": {},
   "outputs": [
    {
     "data": {
      "text/plain": [
       "[{'name': 'int_to_hex',\n",
       "  'args': {'integer': 10},\n",
       "  'id': 'call_PpvOxrp6rf0HjYYNppFStynG',\n",
       "  'type': 'tool_call'}]"
      ]
     },
     "execution_count": 6,
     "metadata": {},
     "output_type": "execute_result"
    }
   ],
   "source": [
    "llm_with_tools.invoke(\"convert integer 10 to hex\").tool_calls\n"
   ]
  },
  {
   "cell_type": "markdown",
   "metadata": {},
   "source": []
  }
 ],
 "metadata": {
  "kernelspec": {
   "display_name": "Python 3",
   "language": "python",
   "name": "python3"
  },
  "language_info": {
   "codemirror_mode": {
    "name": "ipython",
    "version": 3
   },
   "file_extension": ".py",
   "mimetype": "text/x-python",
   "name": "python",
   "nbconvert_exporter": "python",
   "pygments_lexer": "ipython3",
   "version": "3.11.4"
  },
  "orig_nbformat": 4
 },
 "nbformat": 4,
 "nbformat_minor": 2
}
